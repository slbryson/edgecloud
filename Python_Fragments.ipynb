{
 "cells": [
  {
   "cell_type": "markdown",
   "metadata": {},
   "source": [
    "# The remaining are just testing code fragments for display"
   ]
  },
  {
   "cell_type": "code",
   "execution_count": 15,
   "metadata": {
    "collapsed": false
   },
   "outputs": [
    {
     "name": "stdout",
     "output_type": "stream",
     "text": [
      " Resulting Before clustering \n",
      "      Genid  clustereNb       Lat       Lon\n",
      "4736  78778       78778  40.01162 -73.76309\n",
      " Resulting after clustering \n",
      "      Genid  clustereNb\n",
      "4736  78778       78778\n"
     ]
    }
   ],
   "source": [
    "\n",
    "if see:\n",
    "    print ' Resulting Before clustering \\n',ndf[['Genid','clustereNb','Lat','Lon']][(ndf['Genid']==78778)]\n",
    "    print ' Resulting after clustering \\n',lsee2[['Genid','clustereNb']][(lsee2['clustereNb']==78778)]"
   ]
  },
  {
   "cell_type": "code",
   "execution_count": 31,
   "metadata": {
    "collapsed": false
   },
   "outputs": [
    {
     "name": "stdout",
     "output_type": "stream",
     "text": [
      "225\n",
      "39\n",
      "(225, 2)\n",
      "KML writing to  MadisonSquareGarden-0.45cell.kml  succeeded\n",
      "Wrote  MadisonSquareGarden-0.45cell.xls  to directory in excel format\n"
     ]
    }
   ],
   "source": [
    "print len(lat_list)\n",
    "import simplekml\n",
    "#Add columns\n",
    "#ndf['clustereNb'] = pd.Series(eNb, index=ndf.index)\n",
    "\n",
    "#lsee2['clustereNb'].update(pd.Series(temp_list))\n",
    "#dfloc = pd.Series(np.random.randn(), index=['lat'])\n",
    "dfloc = pd.DataFrame(lat_list,columns=['lat'])\n",
    "dfloc['lon'] = pd.Series(lon_list, index=dfloc.index)\n",
    "countsize = dfloc['lon'].unique()\n",
    "print countsize.size\n",
    "#dfloc['lat'].update(pd.Series(lat_list))\n",
    "print dfloc.shape\n",
    " \n",
    "\n",
    "#Write to a file:\n",
    "# Build the file name to be used based on the number of clusters chosen\n",
    "kmlname = 'MadisonSquareGarden-' + str(msg_dist)+ 'cell.kml'\n",
    "kml = simplekml.Kml()\n",
    "dfloc.apply(lambda X: kml.newpoint(  coords=[( X[\"lon\"],X[\"lat\"])]) ,axis=1)\n",
    "try:\n",
    "    kml.save(path = kmlname)\n",
    "    print \"KML writing to \",kmlname, \" succeeded\"\n",
    "except:\n",
    "    print \"KML writing failed\"\n",
    "\n",
    "filename = 'MadisonSquareGarden-' + str(msg_dist)+ 'cell.xls'\n",
    "try:\n",
    "    dfloc.to_excel(filename, sheet_name='ToMSG')\n",
    "    print 'Wrote ', filename, \" to directory in excel format\"\n",
    "except:\n",
    "    print \"File writing didn't succeed\"\n"
   ]
  },
  {
   "cell_type": "code",
   "execution_count": null,
   "metadata": {
    "collapsed": false
   },
   "outputs": [],
   "source": [
    "#40.54\t-74.149\n",
    "#40.54\t-74.1559\n",
    "distance = calc_distance.get_dist_to_cell(40.54,-74.149,40.54,-74.1559)\n",
    "if see:\n",
    "    print 'row', row,'Distance in Km', distance\n",
    "    print lsee2[46:58][['Genid','clustereNb','clusterdist']]"
   ]
  },
  {
   "cell_type": "code",
   "execution_count": null,
   "metadata": {
    "collapsed": true
   },
   "outputs": [],
   "source": [
    "# try a new create clusters\n",
    "ndf.sort('Lon', ascending = False, inplace=True)\n",
    "df = ndf.copy()\n",
    "df= df.groupby(['Lon']).apply(get_genid)\n",
    "df.reset_index(drop = False, inplace=True)"
   ]
  },
  {
   "cell_type": "code",
   "execution_count": null,
   "metadata": {
    "collapsed": true
   },
   "outputs": [],
   "source": [
    "#\n",
    "#\n",
    "#"
   ]
  },
  {
   "cell_type": "code",
   "execution_count": null,
   "metadata": {
    "collapsed": false
   },
   "outputs": [],
   "source": [
    "\n",
    "if False:\n",
    "    for name, group in df:\n",
    "        print \n",
    "        for row, col in group.iterrows():\n",
    "            gentemp = col['clustereNb']\n",
    "            print gentemp, type(gentemp),'count ', count\n",
    "            count+=1\n",
    "\n",
    "        "
   ]
  },
  {
   "cell_type": "code",
   "execution_count": null,
   "metadata": {
    "collapsed": false
   },
   "outputs": [],
   "source": [
    "# Now write the new clusters into a copy.  Unitl memory and space is an issue, we do this to be safe.\n",
    "# this is no longer used and could have copied the value incorrectly\n",
    "#lsee2 = lsee.copy(deep=True)\n",
    "#lsee2['clustereNb'].update(pd.Series(temp_list))\n",
    "\n",
    " "
   ]
  },
  {
   "cell_type": "code",
   "execution_count": null,
   "metadata": {
    "collapsed": false
   },
   "outputs": [],
   "source": [
    "\n",
    "\n",
    "# better way to look up lat and long\n",
    "if False:\n",
    "\n",
    "    lat_list = lsee.loc[teNb,['Genid','Lat']].tolist()\n",
    "    lon_list = lsee.loc[teNb,['Genid','Lon']].tolist()\n",
    "    print lat_list, lon_list\n",
    "\n",
    "    lat_list = lsee.loc[test,['Genid','Lat']].tolist()\n",
    "    lon_list = lsee.loc[test,['Genid','Lon']].tolist()\n",
    "    print lat_list, lon_list\n",
    "\n",
    "#cluster = lsee2['Genid'] == cluster_list[40]\n",
    "#print lsee2[cluster].get_value(teNb,'Lon')\n",
    "#lsee2.iloc[['Genid']==79209]['clustereNb']\n",
    "#distance = calc_distance.get_dist_to_cell(lat1,lon1,lat2,lon2):"
   ]
  },
  {
   "cell_type": "code",
   "execution_count": null,
   "metadata": {
    "collapsed": false
   },
   "outputs": [],
   "source": [
    "# First Attempt.The calc distance function should only require two sets of lat and longs  2nd Attempt\n",
    "see = True\n",
    "low_see = False\n",
    "import calc_distance\n",
    "df_size = len(lsee.index)\n",
    "\n",
    "#find lat and long for a eNb\n",
    "cluster_list = []\n",
    "temp_list = []\n",
    "# Create two list.  We actually want to create clusters counting locations, but use the clustereNB \n",
    "# column to keep up with clusters\n",
    "#Initialize\n",
    "\n",
    "cluster_list = lsee2[['Genid','clustereNb']].values.tolist()\n",
    "#Pick a test row\n",
    "# 31 is good\n",
    "test = 91\n",
    "# loop shoot\n",
    "print len(cluster_list)\n",
    "for row in range(1,len(cluster_list)):\n",
    "    test = row\n",
    "    clusterenb = lsee.get_value(i,'Genid')\n",
    "\n",
    "    # Get the enB Id from the test row\n",
    "    pip = cluster_list[test]\n",
    "    if low_see:\n",
    "        print 'pip[1] _test_cluster this is an eNbId ', pip[1]\n",
    "        print 'pip [0] is an eNbId on that same row ', pip[0]\n",
    "\n",
    "    # Find where pip is in the original dataframe  an index, there may be multiple instance take the first\n",
    "    index_list = lsee2.loc[lsee2['Genid'] ==pip[1]].index.tolist()\n",
    "    tcluster = int(index_list[0])\n",
    "    if low_see:\n",
    "        print 'Test row for eNB selection ',pip[0],test, 'Cluster row location ', index_list\n",
    "    # take that reference and get information\n",
    "\n",
    "\n",
    "    # now get the referenc for eNB\n",
    "    index_list = lsee2.loc[lsee2['Genid'] ==pip[0]].index.tolist()\n",
    "    teNb = int(index_list[0])\n",
    "    if low_see:\n",
    "        print pip[1], ' teNb ', teNb\n",
    "        print pip[0], ' tcluster ', tcluster, '\\n'\n",
    "    if low_see:\n",
    "        print lsee2.loc[teNb,['Genid','Lat','Lon','clustereNb']].tolist()\n",
    "        print lsee2.loc[tcluster,['Genid','Lat','Lon','clustereNb']].tolist()\n",
    "   \n",
    "    tlat1 = lsee2.loc[teNb,['Lat']].values.tolist()\n",
    "    tlon1 = lsee2.loc[teNb,['Lon']].values.tolist()\n",
    "    lat1 = float(tlat1[0])\n",
    "    lon1 = float(tlon1[0])\n",
    "\n",
    "    tlat2 = lsee2.loc[tcluster,['Lat']].values.tolist()\n",
    "    tlon2 = lsee2.loc[tcluster,['Lon']].values.tolist()\n",
    "    lat2 = float(tlat2[0])\n",
    "    lon2 = float(tlon2[0])\n",
    "    if low_see:\n",
    "        print float(tlat1[0])\n",
    "        print float(tlon1[0])\n",
    "        print float(tlat2[0])\n",
    "        print float(tlon2[0])\n",
    "\n",
    "\n",
    "    distance = calc_distance.get_dist_to_cell(lat1,lon1,lat2,lon2)\n",
    "    if see:\n",
    "        print 'row', row,'Distance in Km', distance,\n",
    "        print 'lat1 ','lon1 ', lat1, lon1,  'lat2 ', 'lon2 ', lat2, lon2"
   ]
  },
  {
   "cell_type": "code",
   "execution_count": null,
   "metadata": {
    "collapsed": true
   },
   "outputs": [],
   "source": [
    "# Example of using a list to create key columns hard to pass though\n",
    "key_col = []\n",
    "key_col = [ 'Global eNodeB ID',\n",
    " 'Cell Id',\n",
    " 'Sector',\n",
    " 'Physical Cell Identity',\n",
    " 'Cell Latitude',\n",
    " 'Cell Longitude']\n",
    "key_col = [ 'Global eNodeB ID']"
   ]
  },
  {
   "cell_type": "code",
   "execution_count": null,
   "metadata": {
    "collapsed": false,
    "scrolled": true
   },
   "outputs": [],
   "source": [
    "lsee2 = lsee.copy()\n",
    "# Fragment to read a list into a dataframe.\n",
    "\n",
    "lsee2['clustereNb'].update(pd.Series(temp_list))\n",
    "# A method to check if the orginal cluster changed.  The new cell may not show up in the resulting clusters.\n",
    "if False:\n",
    "    print 'Original \\n', ndf[(ndf['Genid']==79209)]\n",
    "    print ' Resulting after clustering \\n',lsee2[(lsee2['Genid']==79209)]\n",
    " \n",
    "\n",
    "\n",
    "grouped =lsee2[['Genid','Cellid','Tx','Rx','clustereNb','DLBW']].groupby(['clustereNb','Tx','Rx','DLBW'], as_index=False)\n",
    "#lsee2[['Genid','Cellid','Tx','Rx','clustereNb','DLBW']].groupby(['clustereNb','Tx','Rx','DLBW']).count().unstack().unstack()\n",
    "\n",
    "#lsee2[['Genid','Cellid','clustereNb','DLBW']].groupby(['clustereNb','Genid','DLBW']).count()\n",
    "\n",
    "\n",
    "table = pd.pivot_table(lsee2, values='Tx',index=['clustereNb'], columns=['DLBW'], aggfunc=np.sum)\n",
    "table = pd.pivot_table(lsee2, values ='Rx',index=['clustereNb'], columns=['DLBW'])\n",
    "\n",
    "table"
   ]
  },
  {
   "cell_type": "code",
   "execution_count": null,
   "metadata": {
    "collapsed": true
   },
   "outputs": [],
   "source": []
  },
  {
   "cell_type": "code",
   "execution_count": null,
   "metadata": {
    "collapsed": true
   },
   "outputs": [],
   "source": [
    "# This version is defunct and is incorrect\n",
    "def create_clusters1(lsee, cluster_max):\n",
    "    \n",
    "    #print lsee[(lsee['clustereNb']==83209)]\n",
    "    # Create a Cluster key\n",
    "    cluster_list = []\n",
    "    temp_list = []\n",
    "    # Create two list.  We actually want to create clusters counting locations, but use the clustereNB \n",
    "    # column to keep up with clusters\n",
    "    #Initialize\n",
    "    \n",
    "    cluster_list = lsee['clustereNb'].tolist()\n",
    "    loc_list = lsee['Lon'].tolist()\n",
    "\n",
    "    count = 0\n",
    "    if not cluster_max:\n",
    "        cluster_max = 100\n",
    "    print cluster_max\n",
    "    \n",
    "    row_prev = loc_list[0]\n",
    "    row_curr = loc_list[0]\n",
    "\n",
    "    temp_list =  np.copy(cluster_list)\n",
    "\n",
    "    #print 'First Group @ ', tick, row_prev\n",
    "\n",
    "    # Loop to assign cluster keys every cluster_max groups unless they are the same location\n",
    "    for i, row in enumerate(loc_list):\n",
    "        rowv = cluster_list[i]\n",
    "        #Should not just write before checking anything!!\n",
    "        #temp_list[i] = rowv\n",
    "        count +=1\n",
    "        # This is the actual value vs index\n",
    "        row_curr = row\n",
    "        # We check that the value doesn't equal the previous one because we need to keep eNBs together\n",
    "        # If we are on a different eNB and we have maxed the cluster then create a new cluster\n",
    "        if row_curr != row_prev and count > cluster_max:\n",
    "            #print 'Next Group @ ', i, row, row_curr, row_prev, 'Count ', count\n",
    "            temp_list[i] = rowv\n",
    "            count = 0\n",
    "            row_prev = row_curr\n",
    "\n",
    "        elif row_curr == row_prev:\n",
    "            #print 'overflow', row,i, row_curr, row_prev, 'Count ', count\n",
    "            temp_list[i] = rowv\n",
    "            count =0\n",
    "        else:\n",
    "            temp_list[i] = temp_list[i-1]\n",
    "    return temp_list"
   ]
  },
  {
   "cell_type": "code",
   "execution_count": null,
   "metadata": {
    "collapsed": false
   },
   "outputs": [],
   "source": [
    "# Careful this is the second version\n",
    "def create_clusters2(lsee_in, cluster_max,see):\n",
    "    # Initialize variables and set up first comparison\n",
    "    lsee = lsee_in.copy()\n",
    "    count = 0\n",
    "    low_see = 0\n",
    "    start =0\n",
    "    if not cluster_max:\n",
    "        cluster_max = 100\n",
    "    if see:\n",
    "        print cluster_max\n",
    "    loc_list = df[['Genid','Lon']].values.tolist()\n",
    "    # Above row = tupple  = [enid , lon_value]\n",
    "    loc_list = df[['Lon']].values.tolist()\n",
    "    # Above row = lon_value\n",
    "\n",
    "    \n",
    "    #row_prev = loc_list[0]\n",
    "    #row_curr = loc_list[0]\n",
    "    # Use row_prev from new code with test = 0!\n",
    "    row_prev_ = get_lon(lsee,0,low_see)\n",
    "    row_prev = row_prev_[1]\n",
    "    \n",
    "    # Don't do something like this ever again!!!\n",
    "    #temp_list =  np.copy(cluster_list)\n",
    "\n",
    "    # Loop to assign cluster keys every cluster_max groups unless they are the same location\n",
    "    for i, row in enumerate(loc_list):\n",
    "        #Should not just write before checking anything!!\n",
    "        #temp_list[i] = rowv\n",
    "        rowv,sindex = get_enb(lsee,i,low_see)\n",
    "        lsee.set_value(sindex,'clustereNb', rowv[0])\n",
    "\n",
    "        # This is the actual value vs index\n",
    "        row_curr_ = get_lon(lsee,i,low_see)\n",
    "        row_curr = float(row_curr_[1])\n",
    "        # We check that the value doesn't equal the previous one because we need to keep eNBs together\n",
    "        # If we are on a different eNB and we have maxed the cluster then create a new cluster\n",
    "        if row_curr != row_prev and count >= cluster_max:\n",
    "            # in this condition we stay in the same cluster\n",
    "            if see:\n",
    "                print 'Next Group @ row ',row,'**i', i,'start ', start, 'row_curr ', \\\n",
    "                row_curr,'row_prev ', row_prev, 'Count ', count\n",
    "            #temp_list[i] = rowv\n",
    "            rowv,sindex = get_enb(lsee,i,low_see)\n",
    "            if see:\n",
    "                print 'value at count ',lsee.get_value(count,'clustereNb')\n",
    "                print 'old value ',int(rowv[0])\n",
    "            # Now right the value of the last group before proceeding\n",
    "            rowv,sindex = get_enb(lsee,i,low_see)\n",
    "            value = int(rowv[0])\n",
    "            lsee.set_value(i,'clustereNb', value)\n",
    "            if see:\n",
    "                rowv,sindex = get_enb(lsee,i,low_see)\n",
    "                print 'New value ',int(rowv[0])\n",
    "            count = 0\n",
    "            start = i\n",
    "            if see:\n",
    "                print 'Start ', start\n",
    "            row_curr_ = get_lon(lsee,i,low_see)\n",
    "            row_prev = float(row_curr_[1])\n",
    "        if row_curr == row_prev and count < cluster_max:\n",
    "            if see:\n",
    "                print 'create_clusters: overflow  row', row,'**start ', start,'i' ,\\\n",
    "                i,'row_curr ', row_curr, row_prev, 'Count ', count\n",
    "            #temp_list[i] = rowv\n",
    "            rowv,sindex = get_enb(lsee,i,low_see)\n",
    "            if see:\n",
    "                print 'old value ',rowv[0]\n",
    "            \n",
    "            rowv,sindex = get_enb(lsee,start,low_see)\n",
    "            value = int(rowv[0])\n",
    "            lsee.set_value(i,'clustereNb', value)\n",
    "            if see:\n",
    "                print 'New value ',int(rowv[0])\n",
    "            count +=1\n",
    "        if row_curr != row_prev:\n",
    "            if see:\n",
    "                print 'Continue in group: row', row,'**start ',start, 'i ',i,'row_curr ', \\\n",
    "                row_curr,'row_prev ',row_prev,'Count ', count\n",
    "            rowv,sindex = get_enb(lsee,i,low_see)\n",
    "            if see:\n",
    "                print 'old value ',int(rowv[0])\n",
    "            rowv,sindex = get_enb(lsee,start,low_see)\n",
    "            \n",
    "            value = int(rowv[0])\n",
    "            lsee.set_value(i,'clustereNb', value)\n",
    "            \n",
    "            if see:\n",
    "                print 'New value ',int(rowv[0])\n",
    "            row_prev = row_curr\n",
    "            count +=1\n",
    "        else:\n",
    "            if see:\n",
    "                print 'Count ', count, ' We missed you i', i,'row_curr', row_curr,\\\n",
    "                'row_prev',row_prev, 'start ', start\n",
    "    if see:\n",
    "        count = lsee['clustereNb'].unique()\n",
    "    print count.size, 'Number of Unique Clusters of size ~=  ', cluster_max\n",
    "    return (lsee)\n"
   ]
  }
 ],
 "metadata": {
  "kernelspec": {
   "display_name": "Python 2",
   "language": "python",
   "name": "python2"
  },
  "language_info": {
   "codemirror_mode": {
    "name": "ipython",
    "version": 2
   },
   "file_extension": ".py",
   "mimetype": "text/x-python",
   "name": "python",
   "nbconvert_exporter": "python",
   "pygments_lexer": "ipython2",
   "version": "2.7.13"
  }
 },
 "nbformat": 4,
 "nbformat_minor": 0
}
